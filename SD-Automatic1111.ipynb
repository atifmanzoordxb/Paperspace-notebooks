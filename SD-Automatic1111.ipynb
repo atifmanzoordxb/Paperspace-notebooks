{
 "cells": [
  {
   "cell_type": "code",
   "execution_count": null,
   "metadata": {},
   "outputs": [],
   "source": [
    "%cd /\n",
    "!git clone https://github.com/AUTOMATIC1111/stable-diffusion-webui.git\n",
    "\n",
    "%cd stable-diffusion-webui/extensions\n",
    "\n",
    "!git clone https://github.com/Mikubill/sd-webui-controlnet.git\n",
    "\n",
    "%cd sd-webui-controlnet/models\n",
    "\n",
    "!wget https://huggingface.co/lllyasviel/ControlNet-v1-1/resolve/main/control_v11e_sd15_ip2p.pth\n",
    "\n",
    "!wget https://huggingface.co/lllyasviel/ControlNet-v1-1/resolve/main/control_v11f1e_sd15_tile.pth\n",
    "\n",
    "!wget https://huggingface.co/lllyasviel/ControlNet-v1-1/resolve/main/control_v11f1p_sd15_depth.pth\n",
    "\n",
    "!wget https://huggingface.co/lllyasviel/ControlNet-v1-1/resolve/main/control_v11p_sd15_canny.pth\n",
    "\n",
    "!wget https://huggingface.co/lllyasviel/ControlNet-v1-1/resolve/main/control_v11p_sd15_openpose.pth\n",
    "\n",
    "!wget https://huggingface.co/lllyasviel/ControlNet-v1-1/resolve/main/control_v11p_sd15_softedge.pth\n",
    "\n",
    "!wget https://huggingface.co/CiaraRowles/TemporalNet/resolve/main/diff_control_sd15_temporalnet_fp16.safetensors\n",
    "\n",
    "!wget https://huggingface.co/CiaraRowles/TemporalNet/resolve/main/cldm_v15.yaml\n",
    "\n",
    "%cp cldm_v15.yaml diff_control_sd15_temporalnet_fp16.yaml\n",
    "\n",
    "!wget https://huggingface.co/stabilityai/sd-vae-ft-mse-original/resolve/main/vae-ft-mse-840000-ema-pruned.ckpt -P /stable-diffusion-webui/models/VAE"
   ]
  },
  {
   "cell_type": "code",
   "execution_count": null,
   "metadata": {},
   "outputs": [],
   "source": [
    "//Install embeddings and LORA\n",
    "\n",
    "!wget https://huggingface.co/stabilityai/sd-vae-ft-mse-original/resolve/main/vae-ft-mse-840000-ema-pruned.ckpt -P /stable-diffusion-webui/models/VAE\n",
    "\n",
    "%cd /stable-diffusion-webui/embeddings/\n",
    "\n",
    "!wget https://huggingface.co/embed/negative/resolve/main/EasyNegative.pt\n",
    "!wget https://huggingface.co/embed/negative/resolve/main/EasyNegativeV2.safetensors\n",
    "!wget https://huggingface.co/embed/negative/resolve/main/bad-artist-anime.pt\n",
    "!wget https://huggingface.co/embed/negative/resolve/main/bad-artist.pt\n",
    "!wget https://huggingface.co/embed/negative/resolve/main/bad-hands-5.pt\n",
    "!wget https://huggingface.co/embed/negative/resolve/main/bad-image-v2-39000.pt\n",
    "!wget https://huggingface.co/embed/negative/resolve/main/bad_prompt_version2.pt\n",
    "!wget https://huggingface.co/embed/negative/resolve/main/ng_deepnegative_v1_75t.pt\n",
    "!wget https://huggingface.co/embed/negative/resolve/main/verybadimagenegative_v1.3.pt\n",
    "\n",
    "!wget https://huggingface.co/Lykon/DreamShaper/resolve/main/BadDream.pt\n",
    "\n"
   ]
  },
  {
   "cell_type": "code",
   "execution_count": null,
   "metadata": {},
   "outputs": [],
   "source": [
    "%mkdir /stable-diffusion-webui/models/Lora\n",
    "%cd /stable-diffusion-webui/models/Lora\n",
    "!wget https://civitai.com/api/download/models/62833\n",
    "%cp 62833 Detail_Tweaker_LoRA.safetensors\n",
    "%rm 62833\n",
    "\n",
    "##Add more details\n",
    "##!wget https://civitai.com/api/download/models/87153\n",
    "\n",
    "##AI Cosplayers Collection\n",
    "#!wget https://civitai.com/api/download/models/150273\n",
    "#cp 150273 \n",
    "##epi_noiseoffset\n",
    "!wget https://civitai.com/api/download/models/16576\n",
    "%cp 16576 epi_noiseoffset.safetensors\n",
    "%rm 16576\n",
    "\n",
    "##3d render style\n",
    "!wget https://civitai.com/api/download/models/107366\n",
    "%cp 107366 3DMM_V12.safetensors\n",
    "%rm 107366\n",
    "\n",
    "!wget https://civitai.com/api/download/models/81907\n",
    "%cp 81907 CyberpunkAI.safetensors\n",
    "%rm 81907\n",
    "\n",
    "!wget https://civitai.com/api/download/models/55208\n",
    "%mv 55208 ghostrider.safetensors\n",
    "\n",
    "!wget https://civitai.com/api/download/models/93640\n",
    "%mv 93640 GlowingRunesAI.safetensors"
   ]
  },
  {
   "cell_type": "code",
   "execution_count": null,
   "metadata": {},
   "outputs": [],
   "source": [
    "## Run a1111\n",
    "%cd /stable-diffusion-webui\n",
    "!bash webui.sh -f --xformers --share --ckpt-dir /storage/models"
   ]
  }
 ],
 "metadata": {
  "language_info": {
   "name": "python"
  },
  "orig_nbformat": 4
 },
 "nbformat": 4,
 "nbformat_minor": 2
}
