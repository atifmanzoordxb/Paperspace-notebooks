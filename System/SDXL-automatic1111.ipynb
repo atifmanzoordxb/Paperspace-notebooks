{
 "cells": [
  {
   "cell_type": "code",
   "execution_count": null,
   "metadata": {},
   "outputs": [],
   "source": [
    "cd /\n",
    "git clone https://github.com/AUTOMATIC1111/stable-diffusion-webui.git\n",
    "\n",
    "cd stable-diffusion-webui/extensions\n",
    "\n",
    "git clone https://github.com/Mikubill/sd-webui-controlnet.git\n",
    "\n",
    "cd sd-webui-controlnet/models\n",
    "\n"
   ]
  },
  {
   "cell_type": "code",
   "execution_count": null,
   "metadata": {},
   "outputs": [],
   "source": [
    "## Run a1111\n",
    "%cd /stable-diffusion-webui\n",
    "!bash webui.sh -f --xformers --share --medvram-sdxl --ckpt-dir /datasets/stable-diffusion-xl"
   ]
  }
 ],
 "metadata": {
  "language_info": {
   "name": "python"
  },
  "orig_nbformat": 4
 },
 "nbformat": 4,
 "nbformat_minor": 2
}
