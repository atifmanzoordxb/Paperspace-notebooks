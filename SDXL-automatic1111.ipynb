{
 "cells": [
  {
   "cell_type": "code",
   "execution_count": null,
   "metadata": {},
   "outputs": [],
   "source": [
    "## Run a1111\n",
    "%cd /stable-diffusion-webui\n",
    "!bash webui.sh -f --xformers --share --medvram-sdxl --ckpt-dir /storage/models"
   ]
  }
 ],
 "metadata": {
  "language_info": {
   "name": "python"
  },
  "orig_nbformat": 4
 },
 "nbformat": 4,
 "nbformat_minor": 2
}
